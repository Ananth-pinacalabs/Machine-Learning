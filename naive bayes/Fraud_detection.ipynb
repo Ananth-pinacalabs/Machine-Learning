{
 "cells": [
  {
   "cell_type": "markdown",
   "metadata": {},
   "source": [
    "<h2 align = \"center\"><b>Insurence claim fraud detection</b><h2>"
   ]
  },
  {
   "cell_type": "code",
   "execution_count": 1,
   "metadata": {},
   "outputs": [],
   "source": [
    "import pandas as pd\n",
    "import matplotlib.pyplot as plt\n",
    "import seaborn as sns\n",
    "import numpy as np\n"
   ]
  },
  {
   "cell_type": "code",
   "execution_count": 4,
   "metadata": {},
   "outputs": [
    {
     "data": {
      "text/plain": [
       "Month                   object\n",
       "WeekOfMonth              int64\n",
       "DayOfWeek               object\n",
       "Make                    object\n",
       "AccidentArea            object\n",
       "DayOfWeekClaimed        object\n",
       "MonthClaimed            object\n",
       "WeekOfMonthClaimed       int64\n",
       "Sex                     object\n",
       "MaritalStatus           object\n",
       "Age                      int64\n",
       "Fault                   object\n",
       "PolicyType              object\n",
       "VehicleCategory         object\n",
       "VehiclePrice            object\n",
       "FraudFound_P             int64\n",
       "PolicyNumber             int64\n",
       "RepNumber                int64\n",
       "Deductible               int64\n",
       "DriverRating             int64\n",
       "Days_Policy_Accident    object\n",
       "Days_Policy_Claim       object\n",
       "PastNumberOfClaims      object\n",
       "AgeOfVehicle            object\n",
       "AgeOfPolicyHolder       object\n",
       "PoliceReportFiled       object\n",
       "WitnessPresent          object\n",
       "AgentType               object\n",
       "NumberOfSuppliments     object\n",
       "AddressChange_Claim     object\n",
       "NumberOfCars            object\n",
       "Year                     int64\n",
       "BasePolicy              object\n",
       "dtype: object"
      ]
     },
     "execution_count": 4,
     "metadata": {},
     "output_type": "execute_result"
    }
   ],
   "source": [
    "df = pd.read_csv(\"../data/fraud_oracle.csv\")\n",
    "df.head()\n"
   ]
  },
  {
   "cell_type": "code",
   "execution_count": 5,
   "metadata": {},
   "outputs": [
    {
     "data": {
      "text/plain": [
       "Index(['Month', 'WeekOfMonth', 'DayOfWeek', 'Make', 'AccidentArea',\n",
       "       'DayOfWeekClaimed', 'MonthClaimed', 'WeekOfMonthClaimed', 'Sex',\n",
       "       'MaritalStatus', 'Age', 'Fault', 'PolicyType', 'VehicleCategory',\n",
       "       'VehiclePrice', 'FraudFound_P', 'PolicyNumber', 'RepNumber',\n",
       "       'Deductible', 'DriverRating', 'Days_Policy_Accident',\n",
       "       'Days_Policy_Claim', 'PastNumberOfClaims', 'AgeOfVehicle',\n",
       "       'AgeOfPolicyHolder', 'PoliceReportFiled', 'WitnessPresent', 'AgentType',\n",
       "       'NumberOfSuppliments', 'AddressChange_Claim', 'NumberOfCars', 'Year',\n",
       "       'BasePolicy'],\n",
       "      dtype='object')"
      ]
     },
     "execution_count": 5,
     "metadata": {},
     "output_type": "execute_result"
    }
   ],
   "source": [
    "df.columns"
   ]
  },
  {
   "cell_type": "code",
   "execution_count": 8,
   "metadata": {},
   "outputs": [
    {
     "data": {
      "text/plain": [
       "<Axes: xlabel='Month', ylabel='count'>"
      ]
     },
     "execution_count": 8,
     "metadata": {},
     "output_type": "execute_result"
    },
    {
     "data": {
      "image/png": "[encoded data removed]",
      "text/plain": [
       "<Figure size 640x480 with 1 Axes>"
      ]
     },
     "metadata": {},
     "output_type": "display_data"
    }
   ],
   "source": [
    "fig, ax = plt.subplots((2, 2))\n",
    "sns.countplot(df[df['FraudFound_P']==1], x = df['Month'], )"
   ]
  },
  {
   "cell_type": "code",
   "execution_count": null,
   "metadata": {},
   "outputs": [],
   "source": []
  }
 ],
 "metadata": {
  "kernelspec": {
   "display_name": "Python 3",
   "language": "python",
   "name": "python3"
  },
  "language_info": {
   "codemirror_mode": {
    "name": "ipython",
    "version": 3
   },
   "file_extension": ".py",
   "mimetype": "text/x-python",
   "name": "python",
   "nbconvert_exporter": "python",
   "pygments_lexer": "ipython3",
   "version": "3.12.4"
  }
 },
 "nbformat": 4,
 "nbformat_minor": 2
}
